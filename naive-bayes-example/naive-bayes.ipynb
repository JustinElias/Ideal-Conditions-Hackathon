{
 "cells": [
  {
   "cell_type": "code",
   "execution_count": 28,
   "metadata": {},
   "outputs": [],
   "source": [
    "#Justin Elias\n",
    "#Module 6 Critical Thinking\n",
    "#2022/01/01"
   ]
  },
  {
   "cell_type": "code",
   "execution_count": 9,
   "metadata": {},
   "outputs": [],
   "source": [
    "from sklearn import preprocessing\n",
    "from sklearn.naive_bayes import GaussianNB"
   ]
  },
  {
   "cell_type": "code",
   "execution_count": 14,
   "metadata": {},
   "outputs": [],
   "source": [
    "'''\n",
    "Step 1: Defining the dataset.\n",
    "Using my own dummy data to make it a bit simpler and there doesn't need to be\n",
    "any cleaning of the data.\n",
    "'''\n",
    "weather=['Sunny', 'Sunny', 'Rainy', 'Cloudy', 'Cloudy', 'Rainy', 'Sunny', 'Sunny', 'Cloudy', 'Rainy', 'Sunny', 'Cloudy', 'Rainy', 'Cloudy']\n",
    "temperature=['Hot', 'Hot','Warm','Hot', 'Warm', 'Cold', 'Cold', 'Warm', 'Cold', 'Warm', 'Warm', 'Hot', 'Warm', 'Cold']\n",
    "playing=['No', 'No', 'Yes', 'Yes','Yes', 'No',  'Yes', 'Yes', 'Yes', 'Yes', 'No', 'Yes', 'No', 'Yes']\n"
   ]
  },
  {
   "cell_type": "code",
   "execution_count": 15,
   "metadata": {},
   "outputs": [
    {
     "name": "stdout",
     "output_type": "stream",
     "text": [
      "[2 2 1 0 0 1 2 2 0 1 2 0 1 0]\n",
      "[1 1 2 1 2 0 0 2 0 2 2 1 2 0]\n",
      "[0 0 1 1 1 0 1 1 1 1 0 1 0 1]\n"
     ]
    }
   ],
   "source": [
    "'''\n",
    "Step 2: Converting the string labels into numbers\n",
    "Cloudy, Rainy, and Sunny would then equal 0, 1, 2\n",
    "Scikit Learn has the ability to do this\n",
    "'''\n",
    "encoding = preprocessing.LabelEncoder()\n",
    "\n",
    "#encode the different datasets\n",
    "weatherEncoded = encoding.fit_transform(weather)\n",
    "temperatureEncoded = encoding.fit_transform(temperature)\n",
    "playingEncoded = encoding.fit_transform(playing)\n",
    "\n",
    "#print the results to make sure it works\n",
    "print(weatherEncoded)\n",
    "print(temperatureEncoded)\n",
    "print(playingEncoded)"
   ]
  },
  {
   "cell_type": "code",
   "execution_count": 16,
   "metadata": {},
   "outputs": [
    {
     "name": "stdout",
     "output_type": "stream",
     "text": [
      "[(2, 1), (2, 1), (1, 2), (0, 1), (0, 2), (1, 0), (2, 0), (2, 2), (0, 0), (1, 2), (2, 2), (0, 1), (1, 2), (0, 0)]\n"
     ]
    }
   ],
   "source": [
    "'''\n",
    "Step 3: Combine the features (weather and temperature) into one single list of variables\n",
    "This makes a tuple of the features and have the results separate\n",
    "'''\n",
    "\n",
    "features = zip(weatherEncoded,temperatureEncoded)\n",
    "\n",
    "featureList = list(features)\n",
    "print(featureList)"
   ]
  },
  {
   "cell_type": "code",
   "execution_count": 18,
   "metadata": {},
   "outputs": [
    {
     "name": "stdout",
     "output_type": "stream",
     "text": [
      "Prediction: [1]\n"
     ]
    }
   ],
   "source": [
    "'''\n",
    "Step 4: Generate the Model\n",
    "This will create the model and fit the dataset that will  be used to predict\n",
    "'''\n",
    "#This creates the Gaussian model\n",
    "model = GaussianNB()\n",
    "\n",
    "#train the model with the features by the playing\n",
    "model.fit(featureList,playingEncoded)"
   ]
  },
  {
   "cell_type": "code",
   "execution_count": 27,
   "metadata": {},
   "outputs": [
    {
     "name": "stdout",
     "output_type": "stream",
     "text": [
      "Prediction: 0. The Players cannot Play\n"
     ]
    }
   ],
   "source": [
    "'''\n",
    "Step 5: Predictions\n",
    "\n",
    "Weather:\n",
    "Sunny - 2\n",
    "Rainy - 1\n",
    "Cloudy - 0\n",
    "\n",
    "Temperature:\n",
    "Hot - 1\n",
    "Warm - 2\n",
    "Cold - 0\n",
    "'''\n",
    "\n",
    "#Will the players be able to play outside if it is Sunny and Hot?\n",
    "#change this will other numbers to see other outcomes.\n",
    "prediction = model.predict([[2,1]]) \n",
    "\n",
    "if prediction == 1:\n",
    "    print(\"Prediction: 1. The players can Play!\")\n",
    "else:\n",
    "    print('Prediction: 0. The Players cannot Play')\n"
   ]
  },
  {
   "cell_type": "code",
   "execution_count": null,
   "metadata": {},
   "outputs": [],
   "source": []
  }
 ],
 "metadata": {
  "interpreter": {
   "hash": "d9d37f27efacf801dd44f7aa0bcd991a8c67214eacc3fcc5e4f4cdd0eec6dd27"
  },
  "kernelspec": {
   "display_name": "Python 3.8.5 64-bit ('base': conda)",
   "language": "python",
   "name": "python3"
  },
  "language_info": {
   "codemirror_mode": {
    "name": "ipython",
    "version": 3
   },
   "file_extension": ".py",
   "mimetype": "text/x-python",
   "name": "python",
   "nbconvert_exporter": "python",
   "pygments_lexer": "ipython3",
   "version": "3.8.5"
  },
  "orig_nbformat": 4
 },
 "nbformat": 4,
 "nbformat_minor": 2
}
