{
 "cells": [
  {
   "cell_type": "code",
   "execution_count": 2,
   "metadata": {},
   "outputs": [],
   "source": [
    "#Import libraries \n",
    "from sklearn import preprocessing\n",
    "from sklearn.naive_bayes import GaussianNB\n",
    "import pandas as pd\n",
    "import numpy as np\n",
    "import cv2 as cv"
   ]
  },
  {
   "cell_type": "code",
   "execution_count": 10,
   "metadata": {},
   "outputs": [],
   "source": [
    "#add the image we want to output\n",
    "imgOriginal = cv.imread('../imgs/gsix_blank.png')\n",
    "imgNoPlant = cv.imread('../imgs/gsix_no_plant.jpg')"
   ]
  },
  {
   "cell_type": "code",
   "execution_count": 4,
   "metadata": {},
   "outputs": [
    {
     "data": {
      "text/html": [
       "<div>\n",
       "<style scoped>\n",
       "    .dataframe tbody tr th:only-of-type {\n",
       "        vertical-align: middle;\n",
       "    }\n",
       "\n",
       "    .dataframe tbody tr th {\n",
       "        vertical-align: top;\n",
       "    }\n",
       "\n",
       "    .dataframe thead th {\n",
       "        text-align: right;\n",
       "    }\n",
       "</style>\n",
       "<table border=\"1\" class=\"dataframe\">\n",
       "  <thead>\n",
       "    <tr style=\"text-align: right;\">\n",
       "      <th></th>\n",
       "      <th>Time of Day</th>\n",
       "      <th>Temperature</th>\n",
       "      <th>Weather</th>\n",
       "      <th>Planting</th>\n",
       "    </tr>\n",
       "  </thead>\n",
       "  <tbody>\n",
       "    <tr>\n",
       "      <th>0</th>\n",
       "      <td>Day</td>\n",
       "      <td>78</td>\n",
       "      <td>Sunny</td>\n",
       "      <td>Yes</td>\n",
       "    </tr>\n",
       "    <tr>\n",
       "      <th>1</th>\n",
       "      <td>Day</td>\n",
       "      <td>64</td>\n",
       "      <td>Sunny</td>\n",
       "      <td>No</td>\n",
       "    </tr>\n",
       "    <tr>\n",
       "      <th>2</th>\n",
       "      <td>Day</td>\n",
       "      <td>90</td>\n",
       "      <td>Cloudy</td>\n",
       "      <td>Yes</td>\n",
       "    </tr>\n",
       "    <tr>\n",
       "      <th>3</th>\n",
       "      <td>Day</td>\n",
       "      <td>83</td>\n",
       "      <td>Cloudy</td>\n",
       "      <td>Yes</td>\n",
       "    </tr>\n",
       "    <tr>\n",
       "      <th>4</th>\n",
       "      <td>Day</td>\n",
       "      <td>76</td>\n",
       "      <td>Cloudy</td>\n",
       "      <td>No</td>\n",
       "    </tr>\n",
       "  </tbody>\n",
       "</table>\n",
       "</div>"
      ],
      "text/plain": [
       "  Time of Day  Temperature Weather Planting\n",
       "0         Day           78   Sunny      Yes\n",
       "1         Day           64   Sunny       No\n",
       "2         Day           90  Cloudy      Yes\n",
       "3         Day           83  Cloudy      Yes\n",
       "4         Day           76  Cloudy       No"
      ]
     },
     "execution_count": 4,
     "metadata": {},
     "output_type": "execute_result"
    }
   ],
   "source": [
    "#import the dataset\n",
    "weather_df= pd.read_excel('weather_conditions_dataset.xlsx')\n",
    "\n",
    "weather_df.head(5)"
   ]
  },
  {
   "cell_type": "code",
   "execution_count": 5,
   "metadata": {},
   "outputs": [
    {
     "name": "stdout",
     "output_type": "stream",
     "text": [
      "['Day', 'Day', 'Day', 'Day', 'Day', 'Day', 'Day', 'Day', 'Day', 'Day', 'Day', 'Day', 'Day', 'Day', 'Day', 'Day', 'Day', 'Day', 'Day', 'Day', 'Day', 'Day', 'Day', 'Day', 'Night', 'Night', 'Night', 'Night', 'Night', 'Night', 'Night', 'Night', 'Night', 'Night', 'Night', 'Night', 'Night', 'Night', 'Night', 'Night', 'Night', 'Night', 'Night', 'Night', 'Night', 'Night', 'Night', 'Night', 'Night']\n",
      "[78, 64, 90, 83, 76, 88, 89, 0, 78, 104, 85, 95, 85, 79, 91, 92, 90, 91, 88, 86, 77, 76, 74, 83, 62, 74, 61, 73, 65, 68, 78, 62, 0, 76, 64, 90, 40, 0, 73, 63, 69, 73, 64, 91, 63, 75, 69, 33, 84]\n",
      "['Sunny', 'Sunny', 'Cloudy', 'Cloudy', 'Cloudy', 'Sunny', 'Sunny', 'Rainy', 'Rainy', 'Sunny', 'Cloudy', 'Cloudy', 'Rainy', 'Sunny', 'Sunny', 'Sunny', 'Rainy', 'Cloudy', 'Cloudy', 'Cloudy', 'Sunny', 'Sunny', 'Rainy', 'Rainy', 'Sunny', 'Cloudy', 'Cloudy', 'Rainy', 'Sunny', 'Sunny', 'Sunny', 'Rainy', 'Cloudy', 'Cloudy', 'Cloudy', 'Sunny', 'Sunny', 'Rainy', 'Rainy', 'Sunny', 'Cloudy', 'Cloudy', 'Rainy', 'Sunny', 'Sunny', 'Sunny', 'Rainy', 'Cloudy', 'Cloudy']\n",
      "['Yes', 'No', 'Yes', 'Yes', 'No', 'Yes', 'Yes', 'No', 'No', 'No', 'Yes', 'No', 'No', 'Yes', 'Yes', 'No', 'No', 'Yes', 'Yes', 'Yes', 'Yes', 'Yes', 'No', 'No', 'Yes', 'Yes', 'No', 'No', 'Yes', 'Yes', 'No', 'No', 'No', 'No', 'Yes', 'No', 'No', 'No', 'No', 'Yes', 'Yes', 'Yes', 'No', 'No', 'Yes', 'Yes', 'No', 'No', 'No']\n"
     ]
    }
   ],
   "source": [
    "#convert the columns into lists\n",
    "timeOfDay = list(weather_df['Time of Day'])\n",
    "temperature = list(weather_df['Temperature'])\n",
    "weather = list(weather_df['Weather'])\n",
    "planting = list(weather_df['Planting'])\n",
    "\n",
    "print(timeOfDay)\n",
    "print(temperature)\n",
    "print(weather)\n",
    "print(planting)"
   ]
  },
  {
   "cell_type": "code",
   "execution_count": 6,
   "metadata": {},
   "outputs": [
    {
     "name": "stdout",
     "output_type": "stream",
     "text": [
      "[0 0 0 0 0 0 0 0 0 0 0 0 0 0 0 0 0 0 0 0 0 0 0 0 1 1 1 1 1 1 1 1 1 1 1 1 1\n",
      " 1 1 1 1 1 1 1 1 1 1 1 1]\n",
      "[2 2 0 0 0 2 2 1 1 2 0 0 1 2 2 2 1 0 0 0 2 2 1 1 2 0 0 1 2 2 2 1 0 0 0 2 2\n",
      " 1 1 2 0 0 1 2 2 2 1 0 0]\n",
      "[1 0 1 1 0 1 1 0 0 0 1 0 0 1 1 0 0 1 1 1 1 1 0 0 1 1 0 0 1 1 0 0 0 0 1 0 0\n",
      " 0 0 1 1 1 0 0 1 1 0 0 0]\n"
     ]
    }
   ],
   "source": [
    "'''\n",
    "Convert the string words into labeled numbers.\n",
    "Example: Cloudy, Rainy, Sunny will be 0, 1, 2\n",
    "\n",
    "Note: not encoding the temperature column because they are already integers\n",
    "'''\n",
    "\n",
    "encoding = preprocessing.LabelEncoder()\n",
    "\n",
    "#encode the different lists\n",
    "timeOfDayEncoded = encoding.fit_transform(timeOfDay)\n",
    "weatherEncoded = encoding.fit_transform(weather)\n",
    "plantingEncoded = encoding.fit_transform(planting)\n",
    "\n",
    "print(timeOfDayEncoded)\n",
    "print(weatherEncoded)\n",
    "print(plantingEncoded)\n"
   ]
  },
  {
   "cell_type": "code",
   "execution_count": 7,
   "metadata": {},
   "outputs": [
    {
     "name": "stdout",
     "output_type": "stream",
     "text": [
      "[(0, 78, 2), (0, 64, 2), (0, 90, 0), (0, 83, 0), (0, 76, 0), (0, 88, 2), (0, 89, 2), (0, 0, 1), (0, 78, 1), (0, 104, 2), (0, 85, 0), (0, 95, 0), (0, 85, 1), (0, 79, 2), (0, 91, 2), (0, 92, 2), (0, 90, 1), (0, 91, 0), (0, 88, 0), (0, 86, 0), (0, 77, 2), (0, 76, 2), (0, 74, 1), (0, 83, 1), (1, 62, 2), (1, 74, 0), (1, 61, 0), (1, 73, 1), (1, 65, 2), (1, 68, 2), (1, 78, 2), (1, 62, 1), (1, 0, 0), (1, 76, 0), (1, 64, 0), (1, 90, 2), (1, 40, 2), (1, 0, 1), (1, 73, 1), (1, 63, 2), (1, 69, 0), (1, 73, 0), (1, 64, 1), (1, 91, 2), (1, 63, 2), (1, 75, 2), (1, 69, 1), (1, 33, 0), (1, 84, 0)]\n"
     ]
    }
   ],
   "source": [
    "'''\n",
    "Combine the features (Time of Day, Weather, Temperature) into one single list \n",
    "of variables. This makes a tuple of the features and have the results seperate\n",
    "'''\n",
    "features = zip(timeOfDayEncoded, temperature, weatherEncoded)\n",
    "\n",
    "featureList = list(features)\n",
    "print(featureList)"
   ]
  },
  {
   "cell_type": "code",
   "execution_count": 8,
   "metadata": {},
   "outputs": [
    {
     "data": {
      "text/plain": [
       "GaussianNB()"
      ]
     },
     "execution_count": 8,
     "metadata": {},
     "output_type": "execute_result"
    }
   ],
   "source": [
    "'''\n",
    "Generate the model\n",
    "This will create the model and fit the dataset that will be used to predict\n",
    "'''\n",
    "\n",
    "#create the Gaussian Model\n",
    "model = GaussianNB()\n",
    "\n",
    "model.fit(featureList,plantingEncoded)"
   ]
  },
  {
   "cell_type": "code",
   "execution_count": 12,
   "metadata": {},
   "outputs": [
    {
     "name": "stdout",
     "output_type": "stream",
     "text": [
      "Prediction: You cannot Plant\n"
     ]
    }
   ],
   "source": [
    "#predict the weather. Change the values inside of the model.predict to change the output\n",
    "predict = model.predict([[1,40,1]])\n",
    "\n",
    "if predict == 1:\n",
    "    print(\"Prediction: 1. You can Plant!\")\n",
    "    cv.imshow(\"Original\", imgOriginal)\n",
    "    cv.waitKey(0)\n",
    "else:\n",
    "    print(\"Prediction: You cannot Plant\")\n",
    "    cv.imshow(\"NoPlant\", imgNoPlant)\n",
    "    cv.waitKey(0)"
   ]
  },
  {
   "cell_type": "code",
   "execution_count": null,
   "metadata": {},
   "outputs": [],
   "source": []
  }
 ],
 "metadata": {
  "interpreter": {
   "hash": "df53c348891428589e75f49f1d58e23df83af087c00c61c6f7e43a159578c304"
  },
  "kernelspec": {
   "display_name": "Python 3.10.4 64-bit",
   "language": "python",
   "name": "python3"
  },
  "language_info": {
   "codemirror_mode": {
    "name": "ipython",
    "version": 3
   },
   "file_extension": ".py",
   "mimetype": "text/x-python",
   "name": "python",
   "nbconvert_exporter": "python",
   "pygments_lexer": "ipython3",
   "version": "3.10.4"
  },
  "orig_nbformat": 4
 },
 "nbformat": 4,
 "nbformat_minor": 2
}
